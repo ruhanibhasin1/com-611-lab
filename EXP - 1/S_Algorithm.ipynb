{
  "nbformat": 4,
  "nbformat_minor": 0,
  "metadata": {
    "colab": {
      "provenance": []
    },
    "kernelspec": {
      "name": "python3",
      "display_name": "Python 3"
    },
    "language_info": {
      "name": "python"
    }
  },
  "cells": [
    {
      "cell_type": "code",
      "execution_count": 8,
      "metadata": {
        "id": "laGBjYaado1L",
        "colab": {
          "base_uri": "https://localhost:8080/"
        },
        "outputId": "8a6e3de8-3a4d-40cc-8ab8-0fd19d7be1ad"
      },
      "outputs": [
        {
          "output_type": "stream",
          "name": "stdout",
          "text": [
            "The given Training Set \n",
            "\n",
            "['Sunny', 'Warm', 'Normal', 'Strong ', 'Warm ', 'Same', 'Yes']\n",
            "['Sunny', 'Warm', 'Normal', 'Strong ', 'Warm ', 'Same', 'Yes']\n",
            "['Sunny', 'Warm', 'Normal', 'Strong ', 'Warm ', 'Same', 'Yes']\n",
            "['Rainy', 'Cold', 'High', 'Strong ', 'Warm ', 'Change', 'No']\n",
            "['Sunny', 'Warm', 'Normal', 'Strong ', 'Cool ', 'Change', 'Yes']\n"
          ]
        }
      ],
      "source": [
        "import csv\n",
        "num_att=6\n",
        "a=[]\n",
        "print(\"The given Training Set \\n\")\n",
        "with open(r\"/sample_data1.csv\") as csvfile:\n",
        "  reader=csv.reader(csvfile)\n",
        "  for row in reader:\n",
        "    a.append(row)\n",
        "    print(row)"
      ]
    },
    {
      "cell_type": "code",
      "source": [
        "print(\"The Initial Value Of Hypothesis: \")\n",
        "hypothesis=['0']*num_att\n",
        "print(hypothesis)\n",
        "\n",
        "for j in range(0,num_att):\n",
        "  hypothesis[j]=a[0][j]"
      ],
      "metadata": {
        "colab": {
          "base_uri": "https://localhost:8080/"
        },
        "id": "jb6rlSkRiOiW",
        "outputId": "dc91f75c-2cd6-4e08-ff08-fa23868b8c1f"
      },
      "execution_count": null,
      "outputs": [
        {
          "output_type": "stream",
          "name": "stdout",
          "text": [
            "The Initial Value Of Hypothesis: \n",
            "['0', '0', '0', '0', '0', '0']\n"
          ]
        }
      ]
    },
    {
      "cell_type": "code",
      "source": [
        "print(\"Find S: Finding a Maximally Specific Hypothesis \\n\")\n",
        "\n",
        "for i in range(0,len(a)):\n",
        "  if a[i][num_att]=='Yes':\n",
        "    for j in range(0,num_att):\n",
        "      if a[i][j]!=hypothesis[j]:\n",
        "        hypothesis[j]='?'\n",
        "      else:\n",
        "        hypothesis[j]=a[i][j]\n",
        "  print(\"For Traiing Instance No:{0} The Hypothesis Is\".format(i),hypothesis)\n",
        "\n",
        "print(\"Maximally specifc Hypothesis Is: \\n\")\n",
        "print(hypothesis)"
      ],
      "metadata": {
        "colab": {
          "base_uri": "https://localhost:8080/"
        },
        "id": "i09xGoQ7ikb_",
        "outputId": "d2644769-51d7-4947-f8b6-5383827eafdf"
      },
      "execution_count": null,
      "outputs": [
        {
          "output_type": "stream",
          "name": "stdout",
          "text": [
            "Find S: Finding a Maximally Specific Hypothesis \n",
            "\n",
            "For Traiing Instance No:0 The Hypothesis Is ['Sunny ', 'Warm', 'Normal', 'Strong', 'Warm', 'Same']\n",
            "For Traiing Instance No:1 The Hypothesis Is ['Sunny ', 'Warm', '?', 'Strong', 'Warm', 'Same']\n",
            "For Traiing Instance No:2 The Hypothesis Is ['Sunny ', 'Warm', '?', 'Strong', 'Warm', 'Same']\n",
            "For Traiing Instance No:3 The Hypothesis Is ['Sunny ', 'Warm', '?', 'Strong', '?', '?']\n",
            "Maximally specifc Hypothesis Is: \n",
            "\n",
            "['Sunny ', 'Warm', '?', 'Strong', '?', '?']\n"
          ]
        }
      ]
    },
    {
      "cell_type": "code",
      "source": [
        "import csv\n",
        "def loadCsv(filename):\n",
        "    lines = csv.reader(open(\"/sample_data1.csv\", \"r\"))\n",
        "    dataset = list(lines)\n",
        "    for i in range(len(dataset)):\n",
        "        dataset[i] = dataset[i]\n",
        "    return dataset\n",
        "attributes = ['Sky', 'Temp', 'Humidity', 'Wind', 'Water', 'Forecast']\n",
        "print('Attributes =', attributes)\n",
        "num_attributes = len(attributes)\n",
        "filename = \"ws.csv\"\n",
        "dataset = loadCsv(filename)  # Fixed variable assignment\n",
        "print(\"Dataset:\", dataset)\n",
        "hypothesis = ['0'] * num_attributes\n",
        "print(\"Initial Hypothesis:\")\n",
        "print(hypothesis)\n",
        "print(\"The Hypotheses are:\")\n",
        "for i in range(len(dataset)):\n",
        "    target = dataset[i][-1]\n",
        "    if target == 'Yes':  # Fixed missing closing quote\n",
        "        for j in range(num_attributes):\n",
        "            if hypothesis[j] == '0':\n",
        "                hypothesis[j] = dataset[i][j]\n",
        "            elif hypothesis[j] != dataset[i][j]:  # Fixed missing closing parenthesis\n",
        "                hypothesis[j] = '?'\n",
        "        print(f\"{i + 1} = {hypothesis}\")\n",
        "print(\"Final Hypothesis:\")\n",
        "print(hypothesis)"
      ],
      "metadata": {
        "colab": {
          "base_uri": "https://localhost:8080/"
        },
        "id": "lfi0JypiKkik",
        "outputId": "3cd1ff2a-cb4a-4400-b1de-88cdfa2c53a9"
      },
      "execution_count": 19,
      "outputs": [
        {
          "output_type": "stream",
          "name": "stdout",
          "text": [
            "Attributes = ['Sky', 'Temp', 'Humidity', 'Wind', 'Water', 'Forecast']\n",
            "Dataset: [['Sunny', 'Warm', 'Normal', 'Strong ', 'Warm ', 'Same', 'Yes'], ['Sunny', 'Warm', 'Normal', 'Strong ', 'Warm ', 'Same', 'Yes'], ['Sunny', 'Warm', 'Normal', 'Strong ', 'Warm ', 'Same', 'Yes'], ['Rainy', 'Cold', 'High', 'Strong ', 'Warm ', 'Change', 'No'], ['Sunny', 'Warm', 'Normal', 'Strong ', 'Cool ', 'Change', 'Yes']]\n",
            "Initial Hypothesis:\n",
            "['0', '0', '0', '0', '0', '0']\n",
            "The Hypotheses are:\n",
            "1 = ['Sunny', 'Warm', 'Normal', 'Strong ', 'Warm ', 'Same']\n",
            "2 = ['Sunny', 'Warm', 'Normal', 'Strong ', 'Warm ', 'Same']\n",
            "3 = ['Sunny', 'Warm', 'Normal', 'Strong ', 'Warm ', 'Same']\n",
            "5 = ['Sunny', 'Warm', 'Normal', 'Strong ', '?', '?']\n",
            "Final Hypothesis:\n",
            "['Sunny', 'Warm', 'Normal', 'Strong ', '?', '?']\n"
          ]
        }
      ]
    },
    {
      "cell_type": "code",
      "source": [
        "import csv\n",
        "num_att=6\n",
        "a=[]\n",
        "print(\"The given Training Set \\n\")\n",
        "with open(r\"/sample_data1.csv\") as csvfile:\n",
        "  reader=csv.reader(csvfile)\n",
        "  for row in reader:\n",
        "    a.append(row)\n",
        "    print(row)\n",
        "print(\"\\n\")\n",
        "print(\"The Initial Value Of Hypothesis: \")\n",
        "hypothesis=['0']*num_att\n",
        "print(hypothesis)\n",
        "\n",
        "for j in range(0,num_att):\n",
        "  hypothesis[j]=a[0][j]\n",
        "print(\"\\n\")\n",
        "print(\"Find S: Finding a Maximally Specific Hypothesis \\n\")\n",
        "\n",
        "for i in range(0,len(a)):\n",
        "  if a[i][num_att]=='Yes':\n",
        "    for j in range(0,num_att):\n",
        "      if a[i][j]!=hypothesis[j]:\n",
        "        hypothesis[j]='?'\n",
        "      else:\n",
        "        hypothesis[j]=a[i][j]\n",
        "  print(\"For Traiing Instance No:{0} The Hypothesis Is\".format(i),hypothesis)\n",
        "print(\"\\n\")\n",
        "print(\"Maximally specifc Hypothesis Is: \\n\")\n",
        "print(hypothesis)"
      ],
      "metadata": {
        "colab": {
          "base_uri": "https://localhost:8080/"
        },
        "id": "HL0hzXqdMhjD",
        "outputId": "f4b769f4-4489-4f05-b704-45bdc902c9be"
      },
      "execution_count": 25,
      "outputs": [
        {
          "output_type": "stream",
          "name": "stdout",
          "text": [
            "The given Training Set \n",
            "\n",
            "['Sunny', 'Warm', 'Normal', 'Strong ', 'Warm ', 'Same', 'Yes']\n",
            "['Sunny', 'Warm', 'Normal', 'Strong ', 'Warm ', 'Same', 'Yes']\n",
            "['Sunny', 'Warm', 'Normal', 'Strong ', 'Warm ', 'Same', 'Yes']\n",
            "['Rainy', 'Cold', 'High', 'Strong ', 'Warm ', 'Change', 'No']\n",
            "['Sunny', 'Warm', 'Normal', 'Strong ', 'Cool ', 'Change', 'Yes']\n",
            "\n",
            "\n",
            "The Initial Value Of Hypothesis: \n",
            "['0', '0', '0', '0', '0', '0']\n",
            "\n",
            "\n",
            "Find S: Finding a Maximally Specific Hypothesis \n",
            "\n",
            "For Traiing Instance No:0 The Hypothesis Is ['Sunny', 'Warm', 'Normal', 'Strong ', 'Warm ', 'Same']\n",
            "For Traiing Instance No:1 The Hypothesis Is ['Sunny', 'Warm', 'Normal', 'Strong ', 'Warm ', 'Same']\n",
            "For Traiing Instance No:2 The Hypothesis Is ['Sunny', 'Warm', 'Normal', 'Strong ', 'Warm ', 'Same']\n",
            "For Traiing Instance No:3 The Hypothesis Is ['Sunny', 'Warm', 'Normal', 'Strong ', 'Warm ', 'Same']\n",
            "For Traiing Instance No:4 The Hypothesis Is ['Sunny', 'Warm', 'Normal', 'Strong ', '?', '?']\n",
            "\n",
            "\n",
            "Maximally specifc Hypothesis Is: \n",
            "\n",
            "['Sunny', 'Warm', 'Normal', 'Strong ', '?', '?']\n"
          ]
        }
      ]
    },
    {
      "cell_type": "code",
      "source": [],
      "metadata": {
        "id": "TYWEsDcLNf_n"
      },
      "execution_count": null,
      "outputs": []
    }
  ]
}