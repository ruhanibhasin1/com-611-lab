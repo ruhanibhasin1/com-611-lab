{
  "nbformat": 4,
  "nbformat_minor": 0,
  "metadata": {
    "colab": {
      "provenance": []
    },
    "kernelspec": {
      "name": "python3",
      "display_name": "Python 3"
    },
    "language_info": {
      "name": "python"
    }
  },
  "cells": [
    {
      "cell_type": "code",
      "execution_count": 10,
      "metadata": {
        "id": "b0zSFCmmWqUm"
      },
      "outputs": [],
      "source": [
        "import numpy as np\n",
        "import pandas as pd"
      ]
    },
    {
      "cell_type": "code",
      "source": [
        "#Loading data from a CSV file\n",
        "data=pd.DataFrame(data=pd.read_csv('/content/sample_data1.csv'))\n",
        "print(data)"
      ],
      "metadata": {
        "id": "-m1f2DzRW3zZ",
        "colab": {
          "base_uri": "https://localhost:8080/"
        },
        "outputId": "1542989f-926b-4d92-a68e-955d1dd186ab"
      },
      "execution_count": 11,
      "outputs": [
        {
          "output_type": "stream",
          "name": "stdout",
          "text": [
            "     Sky Air Temp Humidity     Wind  Water Forecast Enjoy Sport\n",
            "0  Sunny     Warm   Normal  Strong   Warm      Same         Yes\n",
            "1  Sunny     Warm     High  Strong   Warm      Same         Yes\n",
            "2  Rainy     Cold     High  Strong   Warm    Change          No\n",
            "3  Sunny     Warm     High  Strong   Cool    Change         Yes\n"
          ]
        }
      ]
    },
    {
      "cell_type": "code",
      "source": [
        "#Separating concept features from Target\n",
        "concepts=np.array(data.iloc[:,0:-1])\n",
        "print(concepts)"
      ],
      "metadata": {
        "colab": {
          "base_uri": "https://localhost:8080/"
        },
        "id": "9JWenhk1hbqt",
        "outputId": "272b0fec-331f-4280-9123-da2f4f3b2016"
      },
      "execution_count": 12,
      "outputs": [
        {
          "output_type": "stream",
          "name": "stdout",
          "text": [
            "[['Sunny' 'Warm' 'Normal' 'Strong ' 'Warm ' 'Same']\n",
            " ['Sunny' 'Warm' 'High' 'Strong ' 'Warm ' 'Same']\n",
            " ['Rainy' 'Cold' 'High' 'Strong ' 'Warm ' 'Change']\n",
            " ['Sunny' 'Warm' 'High' 'Strong ' 'Cool ' 'Change']]\n"
          ]
        }
      ]
    },
    {
      "cell_type": "code",
      "source": [
        "#Isolating target into a separate DataFrame\n",
        "#Copying last column to target array\n",
        "target=np.array(data.iloc[:,-1])\n",
        "print(target)"
      ],
      "metadata": {
        "colab": {
          "base_uri": "https://localhost:8080/"
        },
        "id": "VdTQEbsKil70",
        "outputId": "8233d51d-070c-46ce-89cb-3e0cef7a117e"
      },
      "execution_count": 13,
      "outputs": [
        {
          "output_type": "stream",
          "name": "stdout",
          "text": [
            "['Yes' 'Yes' 'No' 'Yes']\n"
          ]
        }
      ]
    },
    {
      "cell_type": "code",
      "source": [
        "def learn(concepts, target):\n",
        "    # Initialize S0 with the first instance from concepts\n",
        "    specific_h = concepts[0].copy()\n",
        "\n",
        "    print(\"\\nInitialization of specific_h and general_h\")\n",
        "    print(specific_h)\n",
        "\n",
        "    # Corrected list comprehension for general_h initialization\n",
        "    general_h = [[\"?\" for _ in range(len(specific_h))] for _ in range(len(specific_h))]\n",
        "\n",
        "    print(general_h)\n",
        "\n",
        "    # The Learning Iterations\n",
        "    for i, h in enumerate(concepts):\n",
        "        # Checking if the hypothesis has a positive target\n",
        "        if target[i] == \"Yes\":\n",
        "            for x in range(len(specific_h)):\n",
        "                # Change value in S & G only if values change\n",
        "                if h[x] != specific_h[x]:\n",
        "                    specific_h[x] = '?'\n",
        "                    general_h[x][x] = '?'\n",
        "\n",
        "        # Checking if the hypothesis has a negative target\n",
        "        if target[i] == \"No\":\n",
        "            for x in range(len(specific_h)):\n",
        "                # For negative hypothesis change values only in G\n",
        "                if h[x] != specific_h[x]:\n",
        "                    general_h[x][x] = specific_h[x]\n",
        "                else:\n",
        "                    general_h[x][x] = '?'\n",
        "\n",
        "        print(\"\\nSteps of Elimination Algorithm\", i + 1)\n",
        "        print(specific_h)\n",
        "        print(general_h)\n",
        "\n",
        "    # Remove unchanged general_h rows (i.e., all '?')\n",
        "    general_h = [h for h in general_h if h != ['?'] * len(specific_h)]\n",
        "\n",
        "    # Return final values\n",
        "    return specific_h, general_h\n"
      ],
      "metadata": {
        "id": "vuT9Va0Gimoo"
      },
      "execution_count": 14,
      "outputs": []
    },
    {
      "cell_type": "code",
      "source": [
        "s_final,g_final = learn(concepts, target)\n",
        "print(\"\\nFinal Specific_h:\", s_final, sep=\"\\n\")\n",
        "print(\"\\nFinal General_h:\", g_final, sep=\"\\n\")"
      ],
      "metadata": {
        "id": "N5N6fzPUkMqU",
        "colab": {
          "base_uri": "https://localhost:8080/"
        },
        "outputId": "83944b18-361e-4925-8457-5776f031300d"
      },
      "execution_count": 15,
      "outputs": [
        {
          "output_type": "stream",
          "name": "stdout",
          "text": [
            "\n",
            "Initialization of specific_h and general_h\n",
            "['Sunny' 'Warm' 'Normal' 'Strong ' 'Warm ' 'Same']\n",
            "[['?', '?', '?', '?', '?', '?'], ['?', '?', '?', '?', '?', '?'], ['?', '?', '?', '?', '?', '?'], ['?', '?', '?', '?', '?', '?'], ['?', '?', '?', '?', '?', '?'], ['?', '?', '?', '?', '?', '?']]\n",
            "\n",
            "Steps of Elimination Algorithm 1\n",
            "['Sunny' 'Warm' 'Normal' 'Strong ' 'Warm ' 'Same']\n",
            "[['?', '?', '?', '?', '?', '?'], ['?', '?', '?', '?', '?', '?'], ['?', '?', '?', '?', '?', '?'], ['?', '?', '?', '?', '?', '?'], ['?', '?', '?', '?', '?', '?'], ['?', '?', '?', '?', '?', '?']]\n",
            "\n",
            "Steps of Elimination Algorithm 2\n",
            "['Sunny' 'Warm' '?' 'Strong ' 'Warm ' 'Same']\n",
            "[['?', '?', '?', '?', '?', '?'], ['?', '?', '?', '?', '?', '?'], ['?', '?', '?', '?', '?', '?'], ['?', '?', '?', '?', '?', '?'], ['?', '?', '?', '?', '?', '?'], ['?', '?', '?', '?', '?', '?']]\n",
            "\n",
            "Steps of Elimination Algorithm 3\n",
            "['Sunny' 'Warm' '?' 'Strong ' 'Warm ' 'Same']\n",
            "[['Sunny', '?', '?', '?', '?', '?'], ['?', 'Warm', '?', '?', '?', '?'], ['?', '?', '?', '?', '?', '?'], ['?', '?', '?', '?', '?', '?'], ['?', '?', '?', '?', '?', '?'], ['?', '?', '?', '?', '?', 'Same']]\n",
            "\n",
            "Steps of Elimination Algorithm 4\n",
            "['Sunny' 'Warm' '?' 'Strong ' '?' '?']\n",
            "[['Sunny', '?', '?', '?', '?', '?'], ['?', 'Warm', '?', '?', '?', '?'], ['?', '?', '?', '?', '?', '?'], ['?', '?', '?', '?', '?', '?'], ['?', '?', '?', '?', '?', '?'], ['?', '?', '?', '?', '?', '?']]\n",
            "\n",
            "Final Specific_h:\n",
            "['Sunny' 'Warm' '?' 'Strong ' '?' '?']\n",
            "\n",
            "Final General_h:\n",
            "[['Sunny', '?', '?', '?', '?', '?'], ['?', 'Warm', '?', '?', '?', '?']]\n"
          ]
        }
      ]
    }
  ]
}